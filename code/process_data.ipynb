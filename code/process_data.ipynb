{
 "cells": [
  {
   "cell_type": "code",
   "execution_count": null,
   "id": "c60792f4",
   "metadata": {},
   "outputs": [],
   "source": [
    "import matplotlib.pyplot as plt\n",
    "import pandas as pd\n",
    "import numpy as np\n",
    "import requests\n",
    "import urllib\n",
    "import os"
   ]
  },
  {
   "cell_type": "code",
   "execution_count": null,
   "id": "1561599a",
   "metadata": {},
   "outputs": [],
   "source": [
    "# Read in files\n",
    "filenames = {'obs': 'observations.csv', 'loc': 'locations.csv', 'nme': 'name_classifications.csv'}\n",
    "data = dict()\n",
    "for file in filenames:\n",
    "    data[file] = pd.read_csv(os.path.join('..', 'data', filenames[file]), sep='\\t')"
   ]
  },
  {
   "cell_type": "code",
   "execution_count": null,
   "id": "c7e028b7",
   "metadata": {},
   "outputs": [],
   "source": [
    "# Clean observations dataframe (relevant columns, drop na)\n",
    "data['obs'] = data['obs'][['id', 'name_id', 'when', 'location_id']]\n",
    "data['obs'].dropna(inplace=True, ignore_index=True)\n",
    "data['obs'].drop_duplicates(subset=['id'], inplace=True, ignore_index=True)\n",
    "data['obs'].rename(columns={'id': 'obs_id'}, inplace=True)\n",
    "data['obs'].head(2)"
   ]
  },
  {
   "cell_type": "code",
   "execution_count": null,
   "id": "408f0373-ebc7-4d4c-bc9d-1e37b3194fae",
   "metadata": {},
   "outputs": [],
   "source": [
    "# Clean locations file\n",
    "data['loc'] = data['loc'][['id', 'name']]\n",
    "data['loc'].dropna(inplace=True, ignore_index=True)\n",
    "data['loc'].drop_duplicates(subset=['id'], inplace=True, ignore_index=True)\n",
    "data['loc'].rename(columns={'id': 'location_id'}, inplace=True)\n",
    "data['loc'].head(2)"
   ]
  },
  {
   "cell_type": "code",
   "execution_count": null,
   "id": "f96d10b6-e073-4e4b-804a-d031a8621850",
   "metadata": {},
   "outputs": [],
   "source": [
    "# Add is_sc column to locations dataframe\n",
    "data['loc']['name'] = data['loc']['name'].str.lower()\n",
    "data['loc']['split_name'] = data['loc']['name'].str.replace(' ', '').str.split(',')\n",
    "data['loc']['is_sc'] = data['loc']['name'].str.contains('santa cruz', case=False)\n",
    "data['loc']['is_sc'] = data['loc'].apply(lambda x: (x['split_name'][-1] == 'usa' and x['split_name'][-2] == 'california') if x['is_sc'] else False, axis=1)\n",
    "data['loc'].head(2)"
   ]
  },
  {
   "cell_type": "code",
   "execution_count": null,
   "id": "18db1d8e",
   "metadata": {},
   "outputs": [],
   "source": [
    "# Clean name dataframe\n",
    "data['nme'] = data['nme'][['name_id', 'domain', 'kingdom', 'phylum', 'class', 'order', 'family']]\n",
    "data['nme'].dropna(inplace=True, ignore_index=True)\n",
    "data['nme'].drop_duplicates(subset=['name_id'], inplace=True, ignore_index=True)\n",
    "data['nme'].head(2)"
   ]
  },
  {
   "cell_type": "code",
   "execution_count": null,
   "id": "2425f521",
   "metadata": {},
   "outputs": [],
   "source": [
    "# Define custom corrections for name data\n",
    "data['nme']['class'] = np.where(data['nme']['order'].eq('Physarales'), 'Myxogastria', data['nme']['class'])\n",
    "data['nme']['phylum'] = np.where(data['nme']['class'].eq('Myxogastria'), 'Mycetozoa', data['nme']['phylum'])\n",
    "data['nme']['kingdom'] = np.where(data['nme']['phylum'].eq('Mycetozoa'), 'Amoebozoa', data['nme']['kingdom'])\n",
    "\n",
    "# Replace Myxomycota with Mycetozoa as technically Myxomycota is not a phylum\n",
    "data['nme']['phylum'] = np.where(data['nme']['phylum'].eq('Myxomycota'), 'Mycetozoa', data['nme']['phylum'])\n",
    "\n",
    "# Replace phylums with lower observations with \"Other\"\n",
    "main_phylums = ['Mycetozoa', 'Basidiomycota', 'Ascomycota']\n",
    "data['nme']['phylum'] = np.where(~data['nme']['phylum'].isin(main_phylums), 'Other', data['nme']['phylum'])\n",
    "\n",
    "data['nme'].head(2)"
   ]
  },
  {
   "cell_type": "code",
   "execution_count": null,
   "id": "28ad9648-231c-4e9e-ad1e-9557b732fd4b",
   "metadata": {
    "scrolled": true
   },
   "outputs": [],
   "source": [
    "# Get location ids for sc only\n",
    "sc_loc_df = data['loc'].query('is_sc == True')[['location_id']]\n",
    "sc_loc_df.head(2)"
   ]
  },
  {
   "cell_type": "code",
   "execution_count": null,
   "id": "4af4204b-6ba3-497f-8181-79f76f838ba6",
   "metadata": {},
   "outputs": [],
   "source": [
    "# Add observations to santa cruz locations, drop cases with no observations\n",
    "all_df = sc_loc_df.merge(data['obs'], how='left', on='location_id')\n",
    "all_df.dropna(subset=['obs_id'], inplace=True, ignore_index=True)\n",
    "print(all_df.shape)\n",
    "all_df.head(2)"
   ]
  },
  {
   "cell_type": "code",
   "execution_count": null,
   "id": "46eafef0",
   "metadata": {},
   "outputs": [],
   "source": [
    "# Add name data \n",
    "all_df = all_df.merge(data['nme'], how='left', on='name_id')\n",
    "all_df.dropna(subset=['domain', 'kingdom', 'phylum', 'class', 'order', 'family'], inplace=True, ignore_index=True)\n",
    "print(all_df.shape)\n",
    "all_df.head(2)"
   ]
  },
  {
   "cell_type": "code",
   "execution_count": null,
   "id": "c8c894d5-fa0c-4032-8c21-d07c74ed96de",
   "metadata": {},
   "outputs": [],
   "source": [
    "# Add yead and month data and keep only rows where year >= 1994\n",
    "all_df['when'] = pd.to_datetime(all_df['when'])\n",
    "all_df['year'] = all_df['when'].dt.year\n",
    "all_df = all_df.query('year >= 1994')\n",
    "all_df['year'] = all_df['year'].astype('str')\n",
    "all_df['month'] = all_df['when'].dt.month.astype('str').str.zfill(2)\n",
    "all_df.head(2)"
   ]
  },
  {
   "cell_type": "code",
   "execution_count": null,
   "id": "711f09d1-e29a-4c4b-9e14-64b06b4de6d9",
   "metadata": {},
   "outputs": [],
   "source": [
    "# Construct df with all desired dates and x-value\n",
    "x_mult = 1\n",
    "dates_df = pd.DataFrame([(str(y), str(m).zfill(2)) for y in range(1994, 2024) for m in range(1, 13)], columns=['year', 'month'])\n",
    "dates_df.sort_values(by=['year', 'month'], ascending=True, inplace=True)\n",
    "dates_df['x'] = range(1, dates_df.shape[0] + 1)\n",
    "dates_df['x'] = dates_df['x'] * x_mult\n",
    "dates_df.head()"
   ]
  },
  {
   "cell_type": "code",
   "execution_count": null,
   "id": "25f1d139-ee72-478b-8e0a-ee51e14c9a7a",
   "metadata": {},
   "outputs": [],
   "source": [
    "# Get list of all phylum-order combinations to create\n",
    "po_df = all_df[['phylum', 'order']].drop_duplicates(ignore_index=True)\n",
    "po_df.head(2)"
   ]
  },
  {
   "cell_type": "code",
   "execution_count": null,
   "id": "ac744a89-9781-4703-b46a-7bd95b4d0f34",
   "metadata": {},
   "outputs": [],
   "source": [
    "# Create dataframe of all date/phylum/order combinations to consider\n",
    "po_df['tmp'] = 1\n",
    "dates_df['tmp'] = 1\n",
    "combo_df = po_df.merge(dates_df, on='tmp')\n",
    "combo_df.drop(columns=['tmp'], inplace=True)\n",
    "combo_df.head(2)"
   ]
  },
  {
   "cell_type": "code",
   "execution_count": null,
   "id": "f3d51211-fb3a-403b-b7d0-0a048aee2e61",
   "metadata": {},
   "outputs": [],
   "source": [
    "# Count number of observations by phylum, order, year, and month\n",
    "count_df = all_df.groupby(by=['phylum', 'order', 'year', 'month'])['obs_id'].count().reset_index()\n",
    "count_df.rename(columns={'obs_id': 'total_obs'}, inplace=True)\n",
    "count_df.head()"
   ]
  },
  {
   "cell_type": "code",
   "execution_count": null,
   "id": "b2496cc2-7a01-4ef4-9e75-54e639a3eedb",
   "metadata": {},
   "outputs": [],
   "source": []
  },
  {
   "cell_type": "code",
   "execution_count": null,
   "id": "96df5d36-f26d-4848-bd16-aa16adce15b3",
   "metadata": {},
   "outputs": [],
   "source": [
    "count_df.query('year == 2023')"
   ]
  },
  {
   "cell_type": "code",
   "execution_count": null,
   "id": "69537e26-818b-4494-88ae-66bfec0b8a4c",
   "metadata": {},
   "outputs": [],
   "source": []
  },
  {
   "cell_type": "code",
   "execution_count": null,
   "id": "b14a32fc-d7eb-4a10-bbe9-d4d47db77085",
   "metadata": {},
   "outputs": [],
   "source": [
    "# Join desired combinations of what/when with actual observation counts and fillna with 0\n",
    "count_df = combo_df.merge(count_df, how='left', on=['phylum', 'year', 'month', 'order'])\n",
    "count_df['total_obs'] = count_df['total_obs'].fillna(0)\n",
    "count_df.head()"
   ]
  },
  {
   "cell_type": "code",
   "execution_count": null,
   "id": "99b2e566-98e3-4ce6-a5cf-c6c27c25ad5a",
   "metadata": {},
   "outputs": [],
   "source": [
    "# Drop year and month, no longer necessary\n",
    "count_df.drop(columns=['year', 'month'], inplace=True)\n",
    "count_df.head(2)"
   ]
  },
  {
   "cell_type": "code",
   "execution_count": null,
   "id": "8be8bbb2-c76a-4b4d-9a28-e4d483781423",
   "metadata": {},
   "outputs": [],
   "source": [
    "# This is our main count dataframe\n",
    "count_df.head()"
   ]
  },
  {
   "cell_type": "code",
   "execution_count": null,
   "id": "82b1d793-8e6d-4521-9c1e-ed2bb6f60d1b",
   "metadata": {},
   "outputs": [],
   "source": [
    "# Change datatype to int for total observations and sort dataframe\n",
    "count_df['total_obs'] = count_df['total_obs'].astype(int)\n",
    "count_df.sort_values(by=['phylum', 'order', 'x'], ascending=True, inplace=True, ignore_index=True)\n",
    "count_df.head()"
   ]
  },
  {
   "cell_type": "code",
   "execution_count": null,
   "id": "b88a8066-fcc0-4afb-ad99-988588344b6d",
   "metadata": {},
   "outputs": [],
   "source": [
    "# Add y-axis to count_df (always set to 0 for now)\n",
    "count_df['y'] = 0\n",
    "count_df.head(2)"
   ]
  },
  {
   "cell_type": "code",
   "execution_count": null,
   "id": "be53f9e6-c8b0-4176-a6e2-351f47693559",
   "metadata": {},
   "outputs": [],
   "source": [
    "# Add column with size for bubble plot\n",
    "s_scale = 20\n",
    "count_df['s'] = count_df['total_obs'] * s_scale\n",
    "count_df.drop(columns=['total_obs'], inplace=True)\n",
    "count_df['s'] = count_df['s'].replace(0, np.nan)\n",
    "count_df.head()"
   ]
  },
  {
   "cell_type": "code",
   "execution_count": null,
   "id": "f5d4036c-0c1b-4f5e-8991-29c318d5687c",
   "metadata": {},
   "outputs": [],
   "source": [
    "# Remove rows that wouldn't draw anything because s is zero\n",
    "final_df = count_df.copy()\n",
    "final_df.dropna(subset=['s'], ignore_index=True, inplace=True)\n",
    "final_df.head(2)"
   ]
  },
  {
   "cell_type": "code",
   "execution_count": null,
   "id": "42eb68b9-ac09-4d63-b633-e7e36c1cd994",
   "metadata": {},
   "outputs": [],
   "source": [
    "# Check unique number of orders\n",
    "len(final_df.order.unique())"
   ]
  },
  {
   "cell_type": "code",
   "execution_count": null,
   "id": "253b33be-e0b5-4154-bad5-db8fdd2a6300",
   "metadata": {},
   "outputs": [],
   "source": [
    "final_df.to_csv('final_df.csv', index=False)"
   ]
  },
  {
   "cell_type": "markdown",
   "id": "eff87996-42e2-4667-8c85-99e45b00be67",
   "metadata": {},
   "source": [
    "## Scatter"
   ]
  },
  {
   "cell_type": "code",
   "execution_count": null,
   "id": "247ed245-9350-4089-bd80-a4f6ebd139d8",
   "metadata": {},
   "outputs": [],
   "source": [
    "# final_df.sort_values(by=['phylum', 'order'], ascending=True, inplace=True)\n",
    "# for order in final_df.order.unique():\n",
    "#     print(order)\n",
    "#     sub_df = final_df.query(f'order == \"{order}\"')\n",
    "#     # Set the dimensions of the plot area in pixels\n",
    "#     dpi = 100\n",
    "#     fig, ax = plt.subplots(figsize=(826/dpi, 1101/dpi), dpi=dpi)\n",
    "    \n",
    "#     # Scatter plot with bubble sizes\n",
    "#     ax.scatter(sub_df['x'], sub_df['y'], s=sub_df['s'], alpha=0.5)\n",
    "    \n",
    "#     # Draw an \"x\" at the start\n",
    "#     x_position = 1\n",
    "#     y_position = 0\n",
    "#     ax.scatter(x_position, y_position, marker='|', color='red', s=100)\n",
    "    \n",
    "#     # Draw an \"x\" at the start\n",
    "#     x_position = 360\n",
    "#     y_position = 0\n",
    "#     ax.scatter(x_position, y_position, marker='|', color='red', s=100)\n",
    "    \n",
    "    \n",
    "#     # Save the figure as an SVG file\n",
    "#     plt.savefig(os.path.join('figs', f'{order.lower()}.svg'), format='svg', dpi=dpi, bbox_inches='tight')"
   ]
  }
 ],
 "metadata": {
  "kernelspec": {
   "display_name": "Python 3 (ipykernel)",
   "language": "python",
   "name": "python3"
  },
  "language_info": {
   "codemirror_mode": {
    "name": "ipython",
    "version": 3
   },
   "file_extension": ".py",
   "mimetype": "text/x-python",
   "name": "python",
   "nbconvert_exporter": "python",
   "pygments_lexer": "ipython3",
   "version": "3.10.11"
  }
 },
 "nbformat": 4,
 "nbformat_minor": 5
}
